{
 "cells": [
  {
   "cell_type": "markdown",
   "metadata": {},
   "source": [
    "# ARIMA (Auto Regressive Integrated Moving Average)"
   ]
  },
  {
   "cell_type": "markdown",
   "metadata": {},
   "source": [
    "Also known as Box-Jenkins 1976 methodology\n",
    "\n",
    "###### What is ARIMA modeling?\n",
    "1. A method among several used in forecasting variables \n",
    "2. Uses the information obtained from the variables itself to forecast its trend \n",
    "3. The variable is regressed on its own past values \n",
    "4. Based on univariate analysis \n",
    "5. Knowing and analyzing the probabilistic, or stochastic, properties of variables \n",
    "6. Designed to forecast future movements \n",
    "7. Uses the philosophy \"let the variable speak for itself”\n"
   ]
  },
  {
   "cell_type": "markdown",
   "metadata": {},
   "source": [
    "###### ARIMA Model Specification: \n",
    "ARIMA (p, d, q) tells us \n",
    "*  p: The number of lag observations included in the model.\n",
    "*  d: The number of times that the raw observations are differenced, also called the degree of differencing.\n",
    "*  q: The size of the moving average window, also called the order of moving average.\n",
    "\n",
    "example: \n",
    "1. ARIMA(1, 1, 2) indicates the model has: one lag of the dependent variable (1), the variable being used is of first-difference stationary (1) and two lags of the error term (2) 2. ARIMA(1, 0, 1) indicates the model has: one lag of the dependent variable (1), the variable being used is of level stationary (0) and one lag of the error term (1). \n",
    "3. ARIMA(1, 0, 1) = ARMA (1, 1) if the series is stationary in level"
   ]
  },
  {
   "cell_type": "markdown",
   "metadata": {},
   "source": []
  },
  {
   "cell_type": "markdown",
   "metadata": {},
   "source": [
    "The general process for ARIMA models is the following:\n",
    "* Visualize the Time Series Data\n",
    "* Make the time series data stationary\n",
    "* Plot the AutoCorrelation or Partial AutoCorrelation Charts\n",
    "* Construct the ARIMA Model and Use it to make predictions"
   ]
  },
  {
   "cell_type": "markdown",
   "metadata": {},
   "source": [
    "## Step 1 :Visualize the Time Series Data"
   ]
  },
  {
   "cell_type": "markdown",
   "metadata": {},
   "source": [
    "### Get Data"
   ]
  },
  {
   "cell_type": "code",
   "execution_count": 1,
   "metadata": {},
   "outputs": [],
   "source": [
    "import urllib.request, urllib.parse, urllib.error\n",
    "import json\n",
    "import pandas as pd\n",
    "import urllib.request, urllib.parse, urllib.error\n",
    "import json\n",
    "import pandas as pd\n",
    "\n",
    "def get_data(stock_name):\n",
    "    api_key='XE1EPJJ09ZVCC448'\n",
    "    if api_key is False:\n",
    "        print(\"Please provide api key\")\n",
    "        exit()\n",
    "    else :\n",
    "        serviceurl = 'https://www.alphavantage.co/query?'\n",
    "\n",
    "    parms = dict()\n",
    "    parms['function']='TIME_SERIES_DAILY_ADJUSTED'\n",
    "    parms['symbol'] = 'BSE:'+stock_name\n",
    "    parms['outputsize']='full'\n",
    "    if api_key is not False: \n",
    "        parms['apikey'] = api_key\n",
    "    url = serviceurl + urllib.parse.urlencode(parms)\n",
    "\n",
    "    print('Retrieving', url)\n",
    "\n",
    "    uh = urllib.request.urlopen(url)\n",
    "    data = uh.read().decode()\n",
    "    print('Retrieved', len(data), 'characters')\n",
    "\n",
    "    try:\n",
    "        js = json.loads(data)\n",
    "    except:\n",
    "        js = None\n",
    "\n",
    "    if (not js) or (\"Error Message\" in js.keys()):\n",
    "        print('====***==== Failure To Retrieve Data====***====')\n",
    "        exit()\n",
    "    #to see what is returned remove comments after add comments\n",
    "    #dataFile=open('dataFile.txt','w')\n",
    "    #dataFile.write(json.dumps(js, indent=4))\n",
    "    #print(json.dumps(js, indent=4))\n",
    "    dataDates=list()\n",
    "    dataOpen=list()\n",
    "    dataHigh=list()\n",
    "    dataLow=list()\n",
    "    dataClose=list()\n",
    "    dataAdjClose=list()\n",
    "    dataVolume=list()\n",
    "    for date in js['Time Series (Daily)'].keys():\n",
    "        dataDates.append(date);\n",
    "        dataOpen.append(js['Time Series (Daily)'][date][\"1. open\"]);\n",
    "        dataHigh.append(js['Time Series (Daily)'][date][\"2. high\"]);\n",
    "        dataLow.append(js['Time Series (Daily)'][date][\"3. low\"]);\n",
    "        dataClose.append(js['Time Series (Daily)'][date][\"4. close\"]);\n",
    "        dataAdjClose.append(js['Time Series (Daily)'][date][\"5. adjusted close\"]);\n",
    "        dataVolume.append(js['Time Series (Daily)'][date][\"6. volume\"]);\n",
    "    data={\n",
    "        'Date':dataDates,\n",
    "        'Open':dataOpen,\n",
    "        'High':dataHigh,\n",
    "        'Low':dataLow,\n",
    "        'Close':dataClose,\n",
    "        'Adj Close':dataAdjClose,\n",
    "        'Volume':dataVolume\n",
    "    }\n",
    "    ans=pd.DataFrame(data)\n",
    "    return ans"
   ]
  },
  {
   "cell_type": "code",
   "execution_count": 2,
   "metadata": {},
   "outputs": [
    {
     "name": "stdout",
     "output_type": "stream",
     "text": [
      "Retrieving https://www.alphavantage.co/query?function=TIME_SERIES_DAILY_ADJUSTED&symbol=BSE%3Ainfy&outputsize=full&apikey=XE1EPJJ09ZVCC448\n",
      "Retrieved 1339471 characters\n"
     ]
    },
    {
     "data": {
      "text/html": [
       "<div>\n",
       "<style scoped>\n",
       "    .dataframe tbody tr th:only-of-type {\n",
       "        vertical-align: middle;\n",
       "    }\n",
       "\n",
       "    .dataframe tbody tr th {\n",
       "        vertical-align: top;\n",
       "    }\n",
       "\n",
       "    .dataframe thead th {\n",
       "        text-align: right;\n",
       "    }\n",
       "</style>\n",
       "<table border=\"1\" class=\"dataframe\">\n",
       "  <thead>\n",
       "    <tr style=\"text-align: right;\">\n",
       "      <th></th>\n",
       "      <th>Date</th>\n",
       "      <th>Open</th>\n",
       "      <th>High</th>\n",
       "      <th>Low</th>\n",
       "      <th>Close</th>\n",
       "      <th>Adj Close</th>\n",
       "      <th>Volume</th>\n",
       "    </tr>\n",
       "  </thead>\n",
       "  <tbody>\n",
       "    <tr>\n",
       "      <th>0</th>\n",
       "      <td>2021-03-30</td>\n",
       "      <td>1340.0</td>\n",
       "      <td>1399.85</td>\n",
       "      <td>1336.0</td>\n",
       "      <td>1385.55</td>\n",
       "      <td>1385.55</td>\n",
       "      <td>526058</td>\n",
       "    </tr>\n",
       "    <tr>\n",
       "      <th>1</th>\n",
       "      <td>2021-03-26</td>\n",
       "      <td>1341.0</td>\n",
       "      <td>1356.4</td>\n",
       "      <td>1332.5</td>\n",
       "      <td>1336.3</td>\n",
       "      <td>1336.3</td>\n",
       "      <td>176922</td>\n",
       "    </tr>\n",
       "    <tr>\n",
       "      <th>2</th>\n",
       "      <td>2021-03-25</td>\n",
       "      <td>1348.95</td>\n",
       "      <td>1349.7</td>\n",
       "      <td>1328.0</td>\n",
       "      <td>1333.75</td>\n",
       "      <td>1333.75</td>\n",
       "      <td>253133</td>\n",
       "    </tr>\n",
       "    <tr>\n",
       "      <th>3</th>\n",
       "      <td>2021-03-24</td>\n",
       "      <td>1362.0</td>\n",
       "      <td>1370.4</td>\n",
       "      <td>1346.6</td>\n",
       "      <td>1353.8</td>\n",
       "      <td>1353.8</td>\n",
       "      <td>116760</td>\n",
       "    </tr>\n",
       "    <tr>\n",
       "      <th>4</th>\n",
       "      <td>2021-03-23</td>\n",
       "      <td>1371.0</td>\n",
       "      <td>1383.3</td>\n",
       "      <td>1359.7</td>\n",
       "      <td>1371.2</td>\n",
       "      <td>1371.2</td>\n",
       "      <td>133032</td>\n",
       "    </tr>\n",
       "    <tr>\n",
       "      <th>...</th>\n",
       "      <td>...</td>\n",
       "      <td>...</td>\n",
       "      <td>...</td>\n",
       "      <td>...</td>\n",
       "      <td>...</td>\n",
       "      <td>...</td>\n",
       "      <td>...</td>\n",
       "    </tr>\n",
       "    <tr>\n",
       "      <th>3995</th>\n",
       "      <td>2005-01-07</td>\n",
       "      <td>2040.0</td>\n",
       "      <td>2064.7008</td>\n",
       "      <td>1995.0496</td>\n",
       "      <td>2050.9008</td>\n",
       "      <td>94.6656</td>\n",
       "      <td>12393856</td>\n",
       "    </tr>\n",
       "    <tr>\n",
       "      <th>3996</th>\n",
       "      <td>2005-01-06</td>\n",
       "      <td>2055.0</td>\n",
       "      <td>2093.0</td>\n",
       "      <td>1994.0</td>\n",
       "      <td>2043.1504</td>\n",
       "      <td>94.3077</td>\n",
       "      <td>7767552</td>\n",
       "    </tr>\n",
       "    <tr>\n",
       "      <th>3997</th>\n",
       "      <td>2005-01-05</td>\n",
       "      <td>2078.0</td>\n",
       "      <td>2078.0</td>\n",
       "      <td>2004.0</td>\n",
       "      <td>2051.8496</td>\n",
       "      <td>94.7093</td>\n",
       "      <td>5442928</td>\n",
       "    </tr>\n",
       "    <tr>\n",
       "      <th>3998</th>\n",
       "      <td>2005-01-04</td>\n",
       "      <td>2120.0</td>\n",
       "      <td>2120.0</td>\n",
       "      <td>2082.2496</td>\n",
       "      <td>2088.3504</td>\n",
       "      <td>96.3943</td>\n",
       "      <td>3134048</td>\n",
       "    </tr>\n",
       "    <tr>\n",
       "      <th>3999</th>\n",
       "      <td>2005-01-03</td>\n",
       "      <td>2099.0</td>\n",
       "      <td>2125.0</td>\n",
       "      <td>2095.5008</td>\n",
       "      <td>2117.3504</td>\n",
       "      <td>97.7329</td>\n",
       "      <td>1661184</td>\n",
       "    </tr>\n",
       "  </tbody>\n",
       "</table>\n",
       "<p>4000 rows × 7 columns</p>\n",
       "</div>"
      ],
      "text/plain": [
       "            Date     Open       High        Low      Close Adj Close    Volume\n",
       "0     2021-03-30   1340.0    1399.85     1336.0    1385.55   1385.55    526058\n",
       "1     2021-03-26   1341.0     1356.4     1332.5     1336.3    1336.3    176922\n",
       "2     2021-03-25  1348.95     1349.7     1328.0    1333.75   1333.75    253133\n",
       "3     2021-03-24   1362.0     1370.4     1346.6     1353.8    1353.8    116760\n",
       "4     2021-03-23   1371.0     1383.3     1359.7     1371.2    1371.2    133032\n",
       "...          ...      ...        ...        ...        ...       ...       ...\n",
       "3995  2005-01-07   2040.0  2064.7008  1995.0496  2050.9008   94.6656  12393856\n",
       "3996  2005-01-06   2055.0     2093.0     1994.0  2043.1504   94.3077   7767552\n",
       "3997  2005-01-05   2078.0     2078.0     2004.0  2051.8496   94.7093   5442928\n",
       "3998  2005-01-04   2120.0     2120.0  2082.2496  2088.3504   96.3943   3134048\n",
       "3999  2005-01-03   2099.0     2125.0  2095.5008  2117.3504   97.7329   1661184\n",
       "\n",
       "[4000 rows x 7 columns]"
      ]
     },
     "execution_count": 2,
     "metadata": {},
     "output_type": "execute_result"
    }
   ],
   "source": [
    "#pass name of company like tcs,hdfc,infy\n",
    "data=get_data('infy')\n",
    "data"
   ]
  },
  {
   "cell_type": "markdown",
   "metadata": {},
   "source": [
    "## Process Data"
   ]
  },
  {
   "cell_type": "code",
   "execution_count": 3,
   "metadata": {},
   "outputs": [],
   "source": [
    "data.dropna(inplace=True)\n",
    "data['Date']=pd.to_datetime(data['Date'])\n",
    "data['Open']=pd.to_numeric(data['Open'])\n",
    "data['High']=pd.to_numeric(data['High'])\n",
    "data['Low']=pd.to_numeric(data['Low'])\n",
    "data['Close']=pd.to_numeric(data['Close'])\n",
    "data['Adj Close']=pd.to_numeric(data['Adj Close'])\n",
    "data['Volume']=pd.to_numeric(data['Volume'])\n",
    "    "
   ]
  },
  {
   "cell_type": "code",
   "execution_count": 4,
   "metadata": {},
   "outputs": [],
   "source": [
    "new_data=data.copy()\n",
    "new_data.sort_index(ascending=False,inplace =True)\n",
    "new_data.set_index('Date',inplace=True)"
   ]
  },
  {
   "cell_type": "code",
   "execution_count": 5,
   "metadata": {},
   "outputs": [
    {
     "data": {
      "text/html": [
       "<div>\n",
       "<style scoped>\n",
       "    .dataframe tbody tr th:only-of-type {\n",
       "        vertical-align: middle;\n",
       "    }\n",
       "\n",
       "    .dataframe tbody tr th {\n",
       "        vertical-align: top;\n",
       "    }\n",
       "\n",
       "    .dataframe thead th {\n",
       "        text-align: right;\n",
       "    }\n",
       "</style>\n",
       "<table border=\"1\" class=\"dataframe\">\n",
       "  <thead>\n",
       "    <tr style=\"text-align: right;\">\n",
       "      <th></th>\n",
       "      <th>Open</th>\n",
       "      <th>High</th>\n",
       "      <th>Low</th>\n",
       "      <th>Close</th>\n",
       "      <th>Adj Close</th>\n",
       "      <th>Volume</th>\n",
       "    </tr>\n",
       "    <tr>\n",
       "      <th>Date</th>\n",
       "      <th></th>\n",
       "      <th></th>\n",
       "      <th></th>\n",
       "      <th></th>\n",
       "      <th></th>\n",
       "      <th></th>\n",
       "    </tr>\n",
       "  </thead>\n",
       "  <tbody>\n",
       "    <tr>\n",
       "      <th>2005-01-03</th>\n",
       "      <td>2099.00</td>\n",
       "      <td>2125.0000</td>\n",
       "      <td>2095.5008</td>\n",
       "      <td>2117.3504</td>\n",
       "      <td>97.7329</td>\n",
       "      <td>1661184</td>\n",
       "    </tr>\n",
       "    <tr>\n",
       "      <th>2005-01-04</th>\n",
       "      <td>2120.00</td>\n",
       "      <td>2120.0000</td>\n",
       "      <td>2082.2496</td>\n",
       "      <td>2088.3504</td>\n",
       "      <td>96.3943</td>\n",
       "      <td>3134048</td>\n",
       "    </tr>\n",
       "    <tr>\n",
       "      <th>2005-01-05</th>\n",
       "      <td>2078.00</td>\n",
       "      <td>2078.0000</td>\n",
       "      <td>2004.0000</td>\n",
       "      <td>2051.8496</td>\n",
       "      <td>94.7093</td>\n",
       "      <td>5442928</td>\n",
       "    </tr>\n",
       "    <tr>\n",
       "      <th>2005-01-06</th>\n",
       "      <td>2055.00</td>\n",
       "      <td>2093.0000</td>\n",
       "      <td>1994.0000</td>\n",
       "      <td>2043.1504</td>\n",
       "      <td>94.3077</td>\n",
       "      <td>7767552</td>\n",
       "    </tr>\n",
       "    <tr>\n",
       "      <th>2005-01-07</th>\n",
       "      <td>2040.00</td>\n",
       "      <td>2064.7008</td>\n",
       "      <td>1995.0496</td>\n",
       "      <td>2050.9008</td>\n",
       "      <td>94.6656</td>\n",
       "      <td>12393856</td>\n",
       "    </tr>\n",
       "    <tr>\n",
       "      <th>...</th>\n",
       "      <td>...</td>\n",
       "      <td>...</td>\n",
       "      <td>...</td>\n",
       "      <td>...</td>\n",
       "      <td>...</td>\n",
       "      <td>...</td>\n",
       "    </tr>\n",
       "    <tr>\n",
       "      <th>2021-03-23</th>\n",
       "      <td>1371.00</td>\n",
       "      <td>1383.3000</td>\n",
       "      <td>1359.7000</td>\n",
       "      <td>1371.2000</td>\n",
       "      <td>1371.2000</td>\n",
       "      <td>133032</td>\n",
       "    </tr>\n",
       "    <tr>\n",
       "      <th>2021-03-24</th>\n",
       "      <td>1362.00</td>\n",
       "      <td>1370.4000</td>\n",
       "      <td>1346.6000</td>\n",
       "      <td>1353.8000</td>\n",
       "      <td>1353.8000</td>\n",
       "      <td>116760</td>\n",
       "    </tr>\n",
       "    <tr>\n",
       "      <th>2021-03-25</th>\n",
       "      <td>1348.95</td>\n",
       "      <td>1349.7000</td>\n",
       "      <td>1328.0000</td>\n",
       "      <td>1333.7500</td>\n",
       "      <td>1333.7500</td>\n",
       "      <td>253133</td>\n",
       "    </tr>\n",
       "    <tr>\n",
       "      <th>2021-03-26</th>\n",
       "      <td>1341.00</td>\n",
       "      <td>1356.4000</td>\n",
       "      <td>1332.5000</td>\n",
       "      <td>1336.3000</td>\n",
       "      <td>1336.3000</td>\n",
       "      <td>176922</td>\n",
       "    </tr>\n",
       "    <tr>\n",
       "      <th>2021-03-30</th>\n",
       "      <td>1340.00</td>\n",
       "      <td>1399.8500</td>\n",
       "      <td>1336.0000</td>\n",
       "      <td>1385.5500</td>\n",
       "      <td>1385.5500</td>\n",
       "      <td>526058</td>\n",
       "    </tr>\n",
       "  </tbody>\n",
       "</table>\n",
       "<p>4000 rows × 6 columns</p>\n",
       "</div>"
      ],
      "text/plain": [
       "               Open       High        Low      Close  Adj Close    Volume\n",
       "Date                                                                     \n",
       "2005-01-03  2099.00  2125.0000  2095.5008  2117.3504    97.7329   1661184\n",
       "2005-01-04  2120.00  2120.0000  2082.2496  2088.3504    96.3943   3134048\n",
       "2005-01-05  2078.00  2078.0000  2004.0000  2051.8496    94.7093   5442928\n",
       "2005-01-06  2055.00  2093.0000  1994.0000  2043.1504    94.3077   7767552\n",
       "2005-01-07  2040.00  2064.7008  1995.0496  2050.9008    94.6656  12393856\n",
       "...             ...        ...        ...        ...        ...       ...\n",
       "2021-03-23  1371.00  1383.3000  1359.7000  1371.2000  1371.2000    133032\n",
       "2021-03-24  1362.00  1370.4000  1346.6000  1353.8000  1353.8000    116760\n",
       "2021-03-25  1348.95  1349.7000  1328.0000  1333.7500  1333.7500    253133\n",
       "2021-03-26  1341.00  1356.4000  1332.5000  1336.3000  1336.3000    176922\n",
       "2021-03-30  1340.00  1399.8500  1336.0000  1385.5500  1385.5500    526058\n",
       "\n",
       "[4000 rows x 6 columns]"
      ]
     },
     "execution_count": 5,
     "metadata": {},
     "output_type": "execute_result"
    }
   ],
   "source": [
    "new_data"
   ]
  },
  {
   "cell_type": "code",
   "execution_count": null,
   "metadata": {},
   "outputs": [],
   "source": []
  },
  {
   "cell_type": "markdown",
   "metadata": {},
   "source": [
    "## Plot data"
   ]
  },
  {
   "cell_type": "code",
   "execution_count": 6,
   "metadata": {},
   "outputs": [
    {
     "data": {
      "text/plain": [
       "<matplotlib.axes._subplots.AxesSubplot at 0x2eb3c2e7ac0>"
      ]
     },
     "execution_count": 6,
     "metadata": {},
     "output_type": "execute_result"
    },
    {
     "data": {
      "image/png": "[encoded data removed]",
      "text/plain": [
       "<Figure size 1440x1080 with 1 Axes>"
      ]
     },
     "metadata": {
      "needs_background": "light"
     },
     "output_type": "display_data"
    }
   ],
   "source": [
    "new_data['Adj Close'].plot(figsize=(20,15))"
   ]
  },
  {
   "cell_type": "code",
   "execution_count": null,
   "metadata": {},
   "outputs": [],
   "source": []
  },
  {
   "cell_type": "code",
   "execution_count": null,
   "metadata": {},
   "outputs": [],
   "source": []
  },
  {
   "cell_type": "markdown",
   "metadata": {},
   "source": [
    "## Step 2 : Make the time series data stationary"
   ]
  },
  {
   "cell_type": "markdown",
   "metadata": {},
   "source": [
    "### Testing for Stationarity"
   ]
  },
  {
   "cell_type": "markdown",
   "metadata": {},
   "source": [
    "We can use the Augmented **Dickey-Fuller**\n",
    "\n",
    "In statistics and econometrics, an augmented Dickey–Fuller test (ADF) tests the null hypothesis that a unit root is present in a time series sample. The alternative hypothesis is different depending on which version of the test is used, but is usually stationarity or trend-stationarity.\n",
    "\n",
    "Basically, we are trying to whether to accept the Null Hypothesis **H0** (that the time series has a unit root, indicating it is non-stationary) or reject **H0** and go with the Alternative Hypothesis (that the time series has no unit root and is stationary).\n",
    "\n",
    "We end up deciding this based on the p-value return.\n",
    "\n",
    "* A small p-value (typically ≤ 0.05) indicates strong evidence against the null hypothesis, so you reject the null hypothesis.\n",
    "\n",
    "* A large p-value (> 0.05) indicates weak evidence against the null hypothesis, so you fail to reject the null hypothesis.\n",
    "\n",
    "Let's run the Augmented Dickey-Fuller test on our data:"
   ]
  },
  {
   "cell_type": "code",
   "execution_count": 7,
   "metadata": {},
   "outputs": [],
   "source": [
    "# Store in a function for later use!\n",
    "def adf_check(time_series):\n",
    "    \"\"\"\n",
    "    Pass in a time series, returns ADF report\n",
    "    \"\"\"\n",
    "    from statsmodels.tsa.stattools import adfuller\n",
    "    result = adfuller(time_series)\n",
    "    print('Augmented Dickey-Fuller Test:')\n",
    "    labels = ['ADF Test Statistic','p-value','#Lags Used','Number of Observations Used']\n",
    "\n",
    "    for value,label in zip(result,labels):\n",
    "        print(label+' : '+str(value) )\n",
    "    \n",
    "    if result[1] <= 0.05:\n",
    "        print(\"strong evidence against the null hypothesis, reject the null hypothesis. Data has no unit root and is stationary\")\n",
    "    else:\n",
    "        print(\"weak evidence against null hypothesis, time series has a unit root, indicating it is non-stationary \")"
   ]
  },
  {
   "cell_type": "code",
   "execution_count": 8,
   "metadata": {},
   "outputs": [
    {
     "data": {
      "text/html": [
       "<div>\n",
       "<style scoped>\n",
       "    .dataframe tbody tr th:only-of-type {\n",
       "        vertical-align: middle;\n",
       "    }\n",
       "\n",
       "    .dataframe tbody tr th {\n",
       "        vertical-align: top;\n",
       "    }\n",
       "\n",
       "    .dataframe thead th {\n",
       "        text-align: right;\n",
       "    }\n",
       "</style>\n",
       "<table border=\"1\" class=\"dataframe\">\n",
       "  <thead>\n",
       "    <tr style=\"text-align: right;\">\n",
       "      <th></th>\n",
       "      <th>Open</th>\n",
       "      <th>High</th>\n",
       "      <th>Low</th>\n",
       "      <th>Close</th>\n",
       "      <th>Adj Close</th>\n",
       "      <th>Volume</th>\n",
       "    </tr>\n",
       "    <tr>\n",
       "      <th>Date</th>\n",
       "      <th></th>\n",
       "      <th></th>\n",
       "      <th></th>\n",
       "      <th></th>\n",
       "      <th></th>\n",
       "      <th></th>\n",
       "    </tr>\n",
       "  </thead>\n",
       "  <tbody>\n",
       "    <tr>\n",
       "      <th>2005-01-03</th>\n",
       "      <td>2099.0</td>\n",
       "      <td>2125.0000</td>\n",
       "      <td>2095.5008</td>\n",
       "      <td>2117.3504</td>\n",
       "      <td>97.7329</td>\n",
       "      <td>1661184</td>\n",
       "    </tr>\n",
       "    <tr>\n",
       "      <th>2005-01-04</th>\n",
       "      <td>2120.0</td>\n",
       "      <td>2120.0000</td>\n",
       "      <td>2082.2496</td>\n",
       "      <td>2088.3504</td>\n",
       "      <td>96.3943</td>\n",
       "      <td>3134048</td>\n",
       "    </tr>\n",
       "    <tr>\n",
       "      <th>2005-01-05</th>\n",
       "      <td>2078.0</td>\n",
       "      <td>2078.0000</td>\n",
       "      <td>2004.0000</td>\n",
       "      <td>2051.8496</td>\n",
       "      <td>94.7093</td>\n",
       "      <td>5442928</td>\n",
       "    </tr>\n",
       "    <tr>\n",
       "      <th>2005-01-06</th>\n",
       "      <td>2055.0</td>\n",
       "      <td>2093.0000</td>\n",
       "      <td>1994.0000</td>\n",
       "      <td>2043.1504</td>\n",
       "      <td>94.3077</td>\n",
       "      <td>7767552</td>\n",
       "    </tr>\n",
       "    <tr>\n",
       "      <th>2005-01-07</th>\n",
       "      <td>2040.0</td>\n",
       "      <td>2064.7008</td>\n",
       "      <td>1995.0496</td>\n",
       "      <td>2050.9008</td>\n",
       "      <td>94.6656</td>\n",
       "      <td>12393856</td>\n",
       "    </tr>\n",
       "  </tbody>\n",
       "</table>\n",
       "</div>"
      ],
      "text/plain": [
       "              Open       High        Low      Close  Adj Close    Volume\n",
       "Date                                                                    \n",
       "2005-01-03  2099.0  2125.0000  2095.5008  2117.3504    97.7329   1661184\n",
       "2005-01-04  2120.0  2120.0000  2082.2496  2088.3504    96.3943   3134048\n",
       "2005-01-05  2078.0  2078.0000  2004.0000  2051.8496    94.7093   5442928\n",
       "2005-01-06  2055.0  2093.0000  1994.0000  2043.1504    94.3077   7767552\n",
       "2005-01-07  2040.0  2064.7008  1995.0496  2050.9008    94.6656  12393856"
      ]
     },
     "execution_count": 8,
     "metadata": {},
     "output_type": "execute_result"
    }
   ],
   "source": [
    "new_data.head()"
   ]
  },
  {
   "cell_type": "code",
   "execution_count": 10,
   "metadata": {},
   "outputs": [
    {
     "name": "stdout",
     "output_type": "stream",
     "text": [
      "Augmented Dickey-Fuller Test:\n",
      "ADF Test Statistic : 3.7542160566599305\n",
      "p-value : 1.0\n",
      "#Lags Used : 31\n",
      "Number of Observations Used : 3968\n",
      "weak evidence against null hypothesis, time series has a unit root, indicating it is non-stationary \n"
     ]
    }
   ],
   "source": [
    "adf_check(new_data['Adj Close'])"
   ]
  },
  {
   "cell_type": "code",
   "execution_count": null,
   "metadata": {},
   "outputs": [],
   "source": []
  },
  {
   "cell_type": "code",
   "execution_count": null,
   "metadata": {},
   "outputs": [],
   "source": []
  },
  {
   "cell_type": "markdown",
   "metadata": {},
   "source": [
    "### Differencing"
   ]
  },
  {
   "cell_type": "markdown",
   "metadata": {},
   "source": [
    "As our data is non-stationary we have to convert it into stationary.\n",
    "\n"
   ]
  },
  {
   "cell_type": "markdown",
   "metadata": {},
   "source": [
    "Non-stationary data is converted to stationary in differencing. Also known as integration step in ARIMA.\n",
    "The first difference of a time series is the series of changes from one period to the next.\n",
    "You can continue to take the second difference, third difference, and so on until your data is stationary"
   ]
  },
  {
   "cell_type": "code",
   "execution_count": 11,
   "metadata": {},
   "outputs": [],
   "source": [
    "new_data['First difference']=new_data['Adj Close'] - new_data['Adj Close'].shift(1)"
   ]
  },
  {
   "cell_type": "code",
   "execution_count": 12,
   "metadata": {},
   "outputs": [
    {
     "data": {
      "text/html": [
       "<div>\n",
       "<style scoped>\n",
       "    .dataframe tbody tr th:only-of-type {\n",
       "        vertical-align: middle;\n",
       "    }\n",
       "\n",
       "    .dataframe tbody tr th {\n",
       "        vertical-align: top;\n",
       "    }\n",
       "\n",
       "    .dataframe thead th {\n",
       "        text-align: right;\n",
       "    }\n",
       "</style>\n",
       "<table border=\"1\" class=\"dataframe\">\n",
       "  <thead>\n",
       "    <tr style=\"text-align: right;\">\n",
       "      <th></th>\n",
       "      <th>Open</th>\n",
       "      <th>High</th>\n",
       "      <th>Low</th>\n",
       "      <th>Close</th>\n",
       "      <th>Adj Close</th>\n",
       "      <th>Volume</th>\n",
       "      <th>First difference</th>\n",
       "    </tr>\n",
       "    <tr>\n",
       "      <th>Date</th>\n",
       "      <th></th>\n",
       "      <th></th>\n",
       "      <th></th>\n",
       "      <th></th>\n",
       "      <th></th>\n",
       "      <th></th>\n",
       "      <th></th>\n",
       "    </tr>\n",
       "  </thead>\n",
       "  <tbody>\n",
       "    <tr>\n",
       "      <th>2005-01-03</th>\n",
       "      <td>2099.0</td>\n",
       "      <td>2125.0000</td>\n",
       "      <td>2095.5008</td>\n",
       "      <td>2117.3504</td>\n",
       "      <td>97.7329</td>\n",
       "      <td>1661184</td>\n",
       "      <td>NaN</td>\n",
       "    </tr>\n",
       "    <tr>\n",
       "      <th>2005-01-04</th>\n",
       "      <td>2120.0</td>\n",
       "      <td>2120.0000</td>\n",
       "      <td>2082.2496</td>\n",
       "      <td>2088.3504</td>\n",
       "      <td>96.3943</td>\n",
       "      <td>3134048</td>\n",
       "      <td>-1.3386</td>\n",
       "    </tr>\n",
       "    <tr>\n",
       "      <th>2005-01-05</th>\n",
       "      <td>2078.0</td>\n",
       "      <td>2078.0000</td>\n",
       "      <td>2004.0000</td>\n",
       "      <td>2051.8496</td>\n",
       "      <td>94.7093</td>\n",
       "      <td>5442928</td>\n",
       "      <td>-1.6850</td>\n",
       "    </tr>\n",
       "    <tr>\n",
       "      <th>2005-01-06</th>\n",
       "      <td>2055.0</td>\n",
       "      <td>2093.0000</td>\n",
       "      <td>1994.0000</td>\n",
       "      <td>2043.1504</td>\n",
       "      <td>94.3077</td>\n",
       "      <td>7767552</td>\n",
       "      <td>-0.4016</td>\n",
       "    </tr>\n",
       "    <tr>\n",
       "      <th>2005-01-07</th>\n",
       "      <td>2040.0</td>\n",
       "      <td>2064.7008</td>\n",
       "      <td>1995.0496</td>\n",
       "      <td>2050.9008</td>\n",
       "      <td>94.6656</td>\n",
       "      <td>12393856</td>\n",
       "      <td>0.3579</td>\n",
       "    </tr>\n",
       "  </tbody>\n",
       "</table>\n",
       "</div>"
      ],
      "text/plain": [
       "              Open       High        Low      Close  Adj Close    Volume  \\\n",
       "Date                                                                       \n",
       "2005-01-03  2099.0  2125.0000  2095.5008  2117.3504    97.7329   1661184   \n",
       "2005-01-04  2120.0  2120.0000  2082.2496  2088.3504    96.3943   3134048   \n",
       "2005-01-05  2078.0  2078.0000  2004.0000  2051.8496    94.7093   5442928   \n",
       "2005-01-06  2055.0  2093.0000  1994.0000  2043.1504    94.3077   7767552   \n",
       "2005-01-07  2040.0  2064.7008  1995.0496  2050.9008    94.6656  12393856   \n",
       "\n",
       "            First difference  \n",
       "Date                          \n",
       "2005-01-03               NaN  \n",
       "2005-01-04           -1.3386  \n",
       "2005-01-05           -1.6850  \n",
       "2005-01-06           -0.4016  \n",
       "2005-01-07            0.3579  "
      ]
     },
     "execution_count": 12,
     "metadata": {},
     "output_type": "execute_result"
    }
   ],
   "source": [
    "new_data.head()"
   ]
  },
  {
   "cell_type": "code",
   "execution_count": 14,
   "metadata": {},
   "outputs": [
    {
     "name": "stdout",
     "output_type": "stream",
     "text": [
      "Augmented Dickey-Fuller Test:\n",
      "ADF Test Statistic : -12.381146700509904\n",
      "p-value : 5.0258494578506367e-23\n",
      "#Lags Used : 30\n",
      "Number of Observations Used : 3968\n",
      "strong evidence against the null hypothesis, reject the null hypothesis. Data has no unit root and is stationary\n"
     ]
    }
   ],
   "source": [
    "adf_check(new_data['First difference'].dropna())"
   ]
  },
  {
   "cell_type": "markdown",
   "metadata": {},
   "source": [
    "so after first difference data is stationary so value of `d=1`"
   ]
  },
  {
   "cell_type": "code",
   "execution_count": null,
   "metadata": {},
   "outputs": [],
   "source": []
  },
  {
   "cell_type": "code",
   "execution_count": null,
   "metadata": {},
   "outputs": [],
   "source": []
  },
  {
   "cell_type": "markdown",
   "metadata": {},
   "source": [
    "## Step 3 : Plot the AutoCorrelation or Partial AutoCorrelation Charts"
   ]
  },
  {
   "cell_type": "markdown",
   "metadata": {},
   "source": [
    "### Auto Correlation \n",
    "An autocorrelation plot shows the correlation of the series with itself, lagged by x time units. \n",
    "So, the y axis is the correlation and the x axis is the number of time units of lag.\n"
   ]
  },
  {
   "cell_type": "code",
   "execution_count": 15,
   "metadata": {},
   "outputs": [],
   "source": [
    "from statsmodels.graphics.tsaplots import plot_acf"
   ]
  },
  {
   "cell_type": "code",
   "execution_count": 16,
   "metadata": {},
   "outputs": [
    {
     "data": {
      "image/png": "[encoded data removed]",
      "text/plain": [
       "<Figure size 432x288 with 1 Axes>"
      ]
     },
     "metadata": {
      "needs_background": "light"
     },
     "output_type": "display_data"
    }
   ],
   "source": [
    "fig_first = plot_acf(new_data[\"First difference\"].dropna())"
   ]
  },
  {
   "cell_type": "markdown",
   "metadata": {},
   "source": [
    "### Partial Autocorrelation\n",
    "In general, a partial correlation is a conditional correlation.\n",
    "\n",
    "The partial autocorrelation at lag k is the autocorrelation between Yt and Yt−k that is not accounted for by lags 1 through k−1.\n",
    "\n",
    "For instance, consider a regression context in which y = response variable and x1, x2, and x3 are predictor variables. The partial correlation between y and x3 is the correlation between the variables determined taking into account how both y and x3 are related to x1 and x2.\n"
   ]
  },
  {
   "cell_type": "code",
   "execution_count": 17,
   "metadata": {},
   "outputs": [],
   "source": [
    "from statsmodels.graphics.tsaplots import plot_pacf"
   ]
  },
  {
   "cell_type": "code",
   "execution_count": 18,
   "metadata": {},
   "outputs": [
    {
     "data": {
      "image/png": "[encoded data removed]",
      "text/plain": [
       "<Figure size 432x288 with 1 Axes>"
      ]
     },
     "metadata": {
      "needs_background": "light"
     },
     "output_type": "display_data"
    }
   ],
   "source": [
    "fig_second = plot_pacf(new_data[\"First difference\"].dropna())"
   ]
  },
  {
   "cell_type": "markdown",
   "metadata": {},
   "source": [
    "### Identification by using Autocorrelation and Partial Autocorrelation\n",
    "\n",
    "* Identification of an AR model is often best done with the PACF.\n",
    "    * For an AR model, the theoretical PACF “shuts off” past the order of the model.  The phrase “shuts off” means that in theory the partial autocorrelations are equal to 0 beyond that point.  Put another way, the number of non-zero partial autocorrelations gives the order of the AR model.  By the “order of the model” we mean the most extreme lag of x that is used as a predictor.\n",
    "    \n",
    "    \n",
    "* Identification of an MA model is often best done with the ACF rather than the PACF.\n",
    "    * For an MA model, the theoretical PACF does not shut off, but instead tapers toward 0 in some manner.  A clearer pattern for an MA model is in the ACF.  The ACF will have non-zero autocorrelations only at lags involved in the model."
   ]
  },
  {
   "cell_type": "markdown",
   "metadata": {},
   "source": [
    "we can see that,\n",
    "\n",
    "Our is AR model as PACF are equal to zero beyond 6.\n",
    "\n",
    "so,`p=6` and `q=0`\n"
   ]
  },
  {
   "cell_type": "code",
   "execution_count": null,
   "metadata": {},
   "outputs": [],
   "source": []
  },
  {
   "cell_type": "code",
   "execution_count": 19,
   "metadata": {},
   "outputs": [
    {
     "data": {
      "text/html": [
       "<div>\n",
       "<style scoped>\n",
       "    .dataframe tbody tr th:only-of-type {\n",
       "        vertical-align: middle;\n",
       "    }\n",
       "\n",
       "    .dataframe tbody tr th {\n",
       "        vertical-align: top;\n",
       "    }\n",
       "\n",
       "    .dataframe thead th {\n",
       "        text-align: right;\n",
       "    }\n",
       "</style>\n",
       "<table border=\"1\" class=\"dataframe\">\n",
       "  <thead>\n",
       "    <tr style=\"text-align: right;\">\n",
       "      <th></th>\n",
       "      <th>Open</th>\n",
       "      <th>High</th>\n",
       "      <th>Low</th>\n",
       "      <th>Close</th>\n",
       "      <th>Adj Close</th>\n",
       "      <th>Volume</th>\n",
       "      <th>First difference</th>\n",
       "    </tr>\n",
       "    <tr>\n",
       "      <th>Date</th>\n",
       "      <th></th>\n",
       "      <th></th>\n",
       "      <th></th>\n",
       "      <th></th>\n",
       "      <th></th>\n",
       "      <th></th>\n",
       "      <th></th>\n",
       "    </tr>\n",
       "  </thead>\n",
       "  <tbody>\n",
       "    <tr>\n",
       "      <th>2005-01-03</th>\n",
       "      <td>2099.00</td>\n",
       "      <td>2125.0000</td>\n",
       "      <td>2095.5008</td>\n",
       "      <td>2117.3504</td>\n",
       "      <td>97.7329</td>\n",
       "      <td>1661184</td>\n",
       "      <td>NaN</td>\n",
       "    </tr>\n",
       "    <tr>\n",
       "      <th>2005-01-04</th>\n",
       "      <td>2120.00</td>\n",
       "      <td>2120.0000</td>\n",
       "      <td>2082.2496</td>\n",
       "      <td>2088.3504</td>\n",
       "      <td>96.3943</td>\n",
       "      <td>3134048</td>\n",
       "      <td>-1.3386</td>\n",
       "    </tr>\n",
       "    <tr>\n",
       "      <th>2005-01-05</th>\n",
       "      <td>2078.00</td>\n",
       "      <td>2078.0000</td>\n",
       "      <td>2004.0000</td>\n",
       "      <td>2051.8496</td>\n",
       "      <td>94.7093</td>\n",
       "      <td>5442928</td>\n",
       "      <td>-1.6850</td>\n",
       "    </tr>\n",
       "    <tr>\n",
       "      <th>2005-01-06</th>\n",
       "      <td>2055.00</td>\n",
       "      <td>2093.0000</td>\n",
       "      <td>1994.0000</td>\n",
       "      <td>2043.1504</td>\n",
       "      <td>94.3077</td>\n",
       "      <td>7767552</td>\n",
       "      <td>-0.4016</td>\n",
       "    </tr>\n",
       "    <tr>\n",
       "      <th>2005-01-07</th>\n",
       "      <td>2040.00</td>\n",
       "      <td>2064.7008</td>\n",
       "      <td>1995.0496</td>\n",
       "      <td>2050.9008</td>\n",
       "      <td>94.6656</td>\n",
       "      <td>12393856</td>\n",
       "      <td>0.3579</td>\n",
       "    </tr>\n",
       "    <tr>\n",
       "      <th>...</th>\n",
       "      <td>...</td>\n",
       "      <td>...</td>\n",
       "      <td>...</td>\n",
       "      <td>...</td>\n",
       "      <td>...</td>\n",
       "      <td>...</td>\n",
       "      <td>...</td>\n",
       "    </tr>\n",
       "    <tr>\n",
       "      <th>2021-03-23</th>\n",
       "      <td>1371.00</td>\n",
       "      <td>1383.3000</td>\n",
       "      <td>1359.7000</td>\n",
       "      <td>1371.2000</td>\n",
       "      <td>1371.2000</td>\n",
       "      <td>133032</td>\n",
       "      <td>0.7000</td>\n",
       "    </tr>\n",
       "    <tr>\n",
       "      <th>2021-03-24</th>\n",
       "      <td>1362.00</td>\n",
       "      <td>1370.4000</td>\n",
       "      <td>1346.6000</td>\n",
       "      <td>1353.8000</td>\n",
       "      <td>1353.8000</td>\n",
       "      <td>116760</td>\n",
       "      <td>-17.4000</td>\n",
       "    </tr>\n",
       "    <tr>\n",
       "      <th>2021-03-25</th>\n",
       "      <td>1348.95</td>\n",
       "      <td>1349.7000</td>\n",
       "      <td>1328.0000</td>\n",
       "      <td>1333.7500</td>\n",
       "      <td>1333.7500</td>\n",
       "      <td>253133</td>\n",
       "      <td>-20.0500</td>\n",
       "    </tr>\n",
       "    <tr>\n",
       "      <th>2021-03-26</th>\n",
       "      <td>1341.00</td>\n",
       "      <td>1356.4000</td>\n",
       "      <td>1332.5000</td>\n",
       "      <td>1336.3000</td>\n",
       "      <td>1336.3000</td>\n",
       "      <td>176922</td>\n",
       "      <td>2.5500</td>\n",
       "    </tr>\n",
       "    <tr>\n",
       "      <th>2021-03-30</th>\n",
       "      <td>1340.00</td>\n",
       "      <td>1399.8500</td>\n",
       "      <td>1336.0000</td>\n",
       "      <td>1385.5500</td>\n",
       "      <td>1385.5500</td>\n",
       "      <td>526058</td>\n",
       "      <td>49.2500</td>\n",
       "    </tr>\n",
       "  </tbody>\n",
       "</table>\n",
       "<p>4000 rows × 7 columns</p>\n",
       "</div>"
      ],
      "text/plain": [
       "               Open       High        Low      Close  Adj Close    Volume  \\\n",
       "Date                                                                        \n",
       "2005-01-03  2099.00  2125.0000  2095.5008  2117.3504    97.7329   1661184   \n",
       "2005-01-04  2120.00  2120.0000  2082.2496  2088.3504    96.3943   3134048   \n",
       "2005-01-05  2078.00  2078.0000  2004.0000  2051.8496    94.7093   5442928   \n",
       "2005-01-06  2055.00  2093.0000  1994.0000  2043.1504    94.3077   7767552   \n",
       "2005-01-07  2040.00  2064.7008  1995.0496  2050.9008    94.6656  12393856   \n",
       "...             ...        ...        ...        ...        ...       ...   \n",
       "2021-03-23  1371.00  1383.3000  1359.7000  1371.2000  1371.2000    133032   \n",
       "2021-03-24  1362.00  1370.4000  1346.6000  1353.8000  1353.8000    116760   \n",
       "2021-03-25  1348.95  1349.7000  1328.0000  1333.7500  1333.7500    253133   \n",
       "2021-03-26  1341.00  1356.4000  1332.5000  1336.3000  1336.3000    176922   \n",
       "2021-03-30  1340.00  1399.8500  1336.0000  1385.5500  1385.5500    526058   \n",
       "\n",
       "            First difference  \n",
       "Date                          \n",
       "2005-01-03               NaN  \n",
       "2005-01-04           -1.3386  \n",
       "2005-01-05           -1.6850  \n",
       "2005-01-06           -0.4016  \n",
       "2005-01-07            0.3579  \n",
       "...                      ...  \n",
       "2021-03-23            0.7000  \n",
       "2021-03-24          -17.4000  \n",
       "2021-03-25          -20.0500  \n",
       "2021-03-26            2.5500  \n",
       "2021-03-30           49.2500  \n",
       "\n",
       "[4000 rows x 7 columns]"
      ]
     },
     "execution_count": 19,
     "metadata": {},
     "output_type": "execute_result"
    }
   ],
   "source": [
    "new_data"
   ]
  },
  {
   "cell_type": "markdown",
   "metadata": {},
   "source": [
    "## Step 4 : Construct the ARIMA Model"
   ]
  },
  {
   "cell_type": "code",
   "execution_count": 20,
   "metadata": {},
   "outputs": [],
   "source": [
    "new_data=new_data[-222:]\n",
    "def split_data():\n",
    "    d= new_data['Adj Close'].values\n",
    "    train_data = d[0:int(len(d)*0.7)]\n",
    "    test_data = d[int(len(d)*0.7):]\n",
    "    return  train_data, test_data\n",
    "train,test=split_data()"
   ]
  },
  {
   "cell_type": "code",
   "execution_count": 21,
   "metadata": {},
   "outputs": [
    {
     "name": "stdout",
     "output_type": "stream",
     "text": [
      "0 1 2 3 4 5 6 7 8 9 10 11 12 13 14 15 16 17 18 19 20 21 22 23 24 25 26 27 28 29 30 31 32 33 34 35 36 37 38 39 40 41 42 43 44 45 46 47 48 49 50 51 52 53 54 55 56 57 58 59 60 61 62 63 64 65 66 "
     ]
    }
   ],
   "source": [
    "def ARIMA_train_predict_for_test(train,test):\n",
    "    from statsmodels.tsa.arima_model import ARIMA\n",
    "    history = [x for x in train]\n",
    "    model_predictions = []\n",
    "    for time_point in range(len(test)):\n",
    "        print(time_point,end=\" \")\n",
    "        model = ARIMA(history, order=(6,1,0))\n",
    "        model_fit = model.fit(disp=0)\n",
    "        output = model_fit.forecast()\n",
    "        yhat = output[0]\n",
    "        model_predictions.append(yhat)\n",
    "        true_test_value = test[time_point]\n",
    "        history.append(true_test_value)\n",
    "    return model_predictions\n",
    "\n",
    "\n",
    "model_predictions=ARIMA_train_predict_for_test(train,test)"
   ]
  },
  {
   "cell_type": "code",
   "execution_count": null,
   "metadata": {},
   "outputs": [],
   "source": []
  },
  {
   "cell_type": "code",
   "execution_count": 37,
   "metadata": {},
   "outputs": [
    {
     "data": {
      "image/png": "[encoded data removed]",
      "text/plain": [
       "<Figure size 1440x720 with 1 Axes>"
      ]
     },
     "metadata": {
      "needs_background": "light"
     },
     "output_type": "display_data"
    }
   ],
   "source": [
    "# graph is plotted here\n",
    "\n",
    "import matplotlib.pyplot as plt\n",
    "%matplotlib inline\n",
    "\n",
    "fig1 = plt.figure(figsize=(20,10))\n",
    "ax1 = fig1.add_axes([0,0,1,1])\n",
    "ax1.plot(range(len(test[-5:])),test[-5:],label='Test')\n",
    "ax1.plot(range(len(model_predictions[-5:])),model_predictions[-5:],label='Predict')\n",
    "ax1.legend()\n",
    "plt.show()"
   ]
  },
  {
   "cell_type": "code",
   "execution_count": 35,
   "metadata": {},
   "outputs": [
    {
     "name": "stdout",
     "output_type": "stream",
     "text": [
      "Testing Root Mean Squared Error :  22.198424295830165\n",
      "Testing Mean Squared Error : 492.7700412177029\n",
      "Testing mean_absolute_error : 17.12893895969504\n",
      "Testing r squared_score : 0.7501781864340777\n"
     ]
    }
   ],
   "source": [
    "# different errors are declare here\n",
    "\n",
    "from math import sqrt\n",
    "from sklearn.metrics import mean_squared_error\n",
    "MSE_error = mean_squared_error(test, model_predictions)\n",
    "print('Testing Root Mean Squared Error :  {}'.format(sqrt(MSE_error)))\n",
    "\n",
    "from sklearn.metrics import mean_squared_error\n",
    "MSE_error1 = mean_squared_error(test, model_predictions)\n",
    "print('Testing Mean Squared Error : {}'.format(MSE_error1))\n",
    "\n",
    "\n",
    "from sklearn.metrics import mean_absolute_error\n",
    "MSE_error2 = mean_absolute_error(test, model_predictions)\n",
    "print('Testing mean_absolute_error : {}'.format(MSE_error2))\n",
    "\n",
    "from sklearn.metrics import r2_score\n",
    "MSE_error3 = r2_score(test, model_predictions)\n",
    "print('Testing r squared_score : {}'.format(MSE_error3))"
   ]
  },
  {
   "cell_type": "code",
   "execution_count": null,
   "metadata": {},
   "outputs": [],
   "source": []
  }
 ],
 "metadata": {
  "kernelspec": {
   "display_name": "Python 3",
   "language": "python",
   "name": "python3"
  },
  "language_info": {
   "codemirror_mode": {
    "name": "ipython",
    "version": 3
   },
   "file_extension": ".py",
   "mimetype": "text/x-python",
   "name": "python",
   "nbconvert_exporter": "python",
   "pygments_lexer": "ipython3",
   "version": "3.8.3"
  }
 },
 "nbformat": 4,
 "nbformat_minor": 4
}
